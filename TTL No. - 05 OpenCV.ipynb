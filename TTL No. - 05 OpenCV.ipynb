{
 "cells": [
  {
   "cell_type": "code",
   "execution_count": 1,
   "id": "880ce3bd",
   "metadata": {},
   "outputs": [
    {
     "name": "stdout",
     "output_type": "stream",
     "text": [
      "Requirement already satisfied: opencv-python in c:\\users\\kiit\\anaconda3\\lib\\site-packages (4.7.0.68)\n",
      "Requirement already satisfied: numpy>=1.17.3 in c:\\users\\kiit\\anaconda3\\lib\\site-packages (from opencv-python) (1.21.5)\n",
      "Note: you may need to restart the kernel to use updated packages.\n"
     ]
    }
   ],
   "source": [
    "pip install opencv-python"
   ]
  },
  {
   "cell_type": "code",
   "execution_count": 25,
   "id": "835feca0",
   "metadata": {},
   "outputs": [
    {
     "name": "stdout",
     "output_type": "stream",
     "text": [
      "<class 'numpy.ndarray'>\n",
      "(662, 1000, 3)\n",
      "[38 29 26]\n"
     ]
    }
   ],
   "source": [
    "import cv2 as cv\n",
    "from matplotlib import pyplot as plt\n",
    "import numpy as np\n",
    "\n",
    "img = cv.imread(r'C:\\Users\\KIIT\\Downloads\\sampleImg.jpg', 1)\n",
    "print(type(img))\n",
    "print(img.shape)\n",
    "px = img[100, 100]\n",
    "print(px)"
   ]
  },
  {
   "cell_type": "code",
   "execution_count": 10,
   "id": "9117b45b",
   "metadata": {},
   "outputs": [],
   "source": [
    "cv.imshow('Image', img)\n",
    "cv.waitKey()\n",
    "cv.destroyAllWindows()"
   ]
  },
  {
   "cell_type": "code",
   "execution_count": 26,
   "id": "0198692b",
   "metadata": {},
   "outputs": [],
   "source": [
    "b, g, r = cv.split(img)\n",
    "b = img[:, :, 0]\n",
    "g = img[:, :, 1]\n",
    "r = img[:, :, 2]\n",
    "cv.imshow('Image', r)\n",
    "cv.waitKey()\n",
    "cv.destroyAllWindows()"
   ]
  },
  {
   "cell_type": "code",
   "execution_count": 21,
   "id": "58dd0864",
   "metadata": {},
   "outputs": [],
   "source": [
    "b1 = []\n",
    "for i in range(len(b)):\n",
    "    b1.append(255 - b[i])\n",
    "    \n",
    "g1 = []\n",
    "for i in range(len(g)):\n",
    "    g1.append(255 - b[i])\n",
    "    \n",
    "r1 = []\n",
    "for i in range(len(r)):\n",
    "    r1.append(255 - r[i])\n",
    "\n",
    "b1 = np.array(b1)\n",
    "g1 = np.array(g1)\n",
    "r1 = np.array(r1)\n",
    "img2 = cv.merge((b1, g1, r1))\n",
    "cv.imshow('Image', img2)\n",
    "cv.waitKey()\n",
    "cv.destroyAllWindows()"
   ]
  },
  {
   "cell_type": "code",
   "execution_count": 20,
   "id": "3d321687",
   "metadata": {},
   "outputs": [],
   "source": [
    "for i in range(100, 201):\n",
    "    for j in range(100, 201):\n",
    "        b[i][j] = 0\n",
    "        g[i][j] = 0\n",
    "        r[i][j] = 0\n",
    "    \n",
    "img2 = cv.merge((b, g, r))\n",
    "cv.imshow('Image', img2)\n",
    "cv.waitKey()\n",
    "cv.destroyAllWindows()"
   ]
  },
  {
   "cell_type": "code",
   "execution_count": null,
   "id": "43555e51",
   "metadata": {},
   "outputs": [],
   "source": [
    "#Histogram of an image\n",
    "#Histogram equalization"
   ]
  },
  {
   "cell_type": "code",
   "execution_count": 28,
   "id": "ab7becc9",
   "metadata": {},
   "outputs": [],
   "source": [
    "b2 = []\n",
    "for i in range(100, 201):\n",
    "    for j in range(100, 201):\n",
    "        b2.append(b[i][j])\n",
    "    \n",
    "g2 = []\n",
    "for i in range(100, 201):\n",
    "    for j in range(100, 201):\n",
    "        g2.append(g[i][j])\n",
    "    \n",
    "r2 = []\n",
    "for i in range(100, 201):\n",
    "    for j in range(100, 201):\n",
    "        r2.append(r[i][j])\n",
    "\n",
    "b2 = np.array(b2)\n",
    "g2 = np.array(g2)\n",
    "r2 = np.array(r2)\n",
    "img3 = cv.merge((b2, g2, r2))\n",
    "cv.imshow('Image', img3)\n",
    "cv.waitKey()\n",
    "cv.destroyAllWindows()"
   ]
  },
  {
   "cell_type": "code",
   "execution_count": null,
   "id": "c8575a00",
   "metadata": {},
   "outputs": [],
   "source": []
  }
 ],
 "metadata": {
  "kernelspec": {
   "display_name": "Python 3 (ipykernel)",
   "language": "python",
   "name": "python3"
  },
  "language_info": {
   "codemirror_mode": {
    "name": "ipython",
    "version": 3
   },
   "file_extension": ".py",
   "mimetype": "text/x-python",
   "name": "python",
   "nbconvert_exporter": "python",
   "pygments_lexer": "ipython3",
   "version": "3.9.13"
  }
 },
 "nbformat": 4,
 "nbformat_minor": 5
}
